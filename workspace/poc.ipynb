{
 "cells": [
  {
   "cell_type": "code",
   "execution_count": 7,
   "id": "a400c49e-42a8-4e44-98ab-6ac9fac7e15d",
   "metadata": {
    "tags": []
   },
   "outputs": [],
   "source": [
    "from pyspark.sql import SparkSession\n",
    "import wget"
   ]
  },
  {
   "cell_type": "code",
   "execution_count": 8,
   "id": "46c859ea-ade3-475f-bd73-18a9ac247ca9",
   "metadata": {
    "tags": []
   },
   "outputs": [],
   "source": [
    "spark = SparkSession.\\\n",
    "        builder.\\\n",
    "        appName(\"pipeline-example\").\\\n",
    "        master(\"spark://spark-master:7077\").\\\n",
    "        config(\"spark.executor.memory\", \"512m\").\\\n",
    "        getOrCreate()"
   ]
  },
  {
   "cell_type": "code",
   "execution_count": 9,
   "id": "e16e37db-10d6-4d21-9494-a8e52ac6519a",
   "metadata": {
    "tags": []
   },
   "outputs": [
    {
     "name": "stderr",
     "output_type": "stream",
     "text": [
      "                                                                                \r"
     ]
    }
   ],
   "source": [
    "data = spark.read.option(\"header\",\"true\").csv(\"./raw_data/pipeline_example.csv\")"
   ]
  },
  {
   "cell_type": "code",
   "execution_count": 10,
   "id": "4e0f68e1-ec38-4972-9fb1-88b0c5f9783a",
   "metadata": {
    "tags": []
   },
   "outputs": [
    {
     "name": "stderr",
     "output_type": "stream",
     "text": [
      "[Stage 1:>                                                          (0 + 1) / 1]\r"
     ]
    },
    {
     "name": "stdout",
     "output_type": "stream",
     "text": [
      "+-------------+--------------------+---------------+--------------------+-----+\n",
      "|Serial Number|        Company Name|Employee Markme|         Description|Leave|\n",
      "+-------------+--------------------+---------------+--------------------+-----+\n",
      "|            2|      TALES OF SHIVA|           Mark|                mark|    0|\n",
      "|            3|1Q84 THE COMPLETE...|HARUKI MURAKAMI|                Mark|    0|\n",
      "|            4|            MY KUMAN|           Mark|                Mark|    0|\n",
      "|            5|THE GOD OF SMAAL ...|  ARUNDHATI ROY|  4TH HARPER COLLINS|    2|\n",
      "|            6|    THE BLACK CIRCLE|           Mark|  4TH HARPER COLLINS|    0|\n",
      "|            7|THE THREE LAWS OF...|           Mark|  4TH HARPER COLLINS|    0|\n",
      "|            8|   CHAMarkKYA MANTRA|           Mark|  4TH HARPER COLLINS|    0|\n",
      "|            9|            59.FLAGS|           Mark|  4TH HARPER COLLINS|    0|\n",
      "|           10|THE POWER OF POSI...|           Mark|     A & A PUBLISHER|    0|\n",
      "|           11|YOU CAN IF YO THI...|          PEALE|     A & A PUBLISHER|    0|\n",
      "|           12|DONGRI SE DUBAI T...|           Mark|     A & A PUBLISHER|    0|\n",
      "|           13|MarkLANDA ADYTAN ...|           Mark|   AADISH BOOK DEPOT|    0|\n",
      "|           14|MarkLANDA VISHAL ...|              -|   AADISH BOOK DEPOT|    1|\n",
      "|           15|MarkLANDA CONCISE...|           Mark|   AADISH BOOK DEPOT|    0|\n",
      "|           16|LIEUTEMarkMarkT G...|           Mark|          AAM COMICS|    2|\n",
      "|           17|LN. MarkIK SUNDER...|            N.A|          AAN COMICS|    0|\n",
      "|           18|      I AM KRISHMark|   DEEP TRIVEDI|AATMAN INNOVATION...|    1|\n",
      "|           19|DON'T TEACH ME TO...|   DEEP TRIVEDI|AATMAN INNOVATION...|    0|\n",
      "|           20|MUJHE SAHISHNUTA ...|   DEEP TRIVEDI|AATMAN INNOVATION...|    0|\n",
      "|           21|  SECRETS OF DESTINY|   DEEP TRIVEDI|AATMAN INNOVATION...|    1|\n",
      "+-------------+--------------------+---------------+--------------------+-----+\n",
      "only showing top 20 rows\n",
      "\n"
     ]
    },
    {
     "name": "stderr",
     "output_type": "stream",
     "text": [
      "                                                                                \r"
     ]
    }
   ],
   "source": [
    "data.show()"
   ]
  },
  {
   "cell_type": "code",
   "execution_count": 11,
   "id": "b9afd990-21bd-40a6-a009-50ad3ebedb97",
   "metadata": {
    "tags": []
   },
   "outputs": [
    {
     "data": {
      "text/plain": [
       "['Serial Number', 'Company Name', 'Employee Markme', 'Description', 'Leave']"
      ]
     },
     "execution_count": 11,
     "metadata": {},
     "output_type": "execute_result"
    }
   ],
   "source": [
    "data.schema.names"
   ]
  },
  {
   "cell_type": "code",
   "execution_count": 13,
   "id": "4915f45c-c66b-4454-a88c-49637eace47d",
   "metadata": {
    "tags": []
   },
   "outputs": [],
   "source": [
    "spark.stop()"
   ]
  }
 ],
 "metadata": {
  "kernelspec": {
   "display_name": "Python 3 (ipykernel)",
   "language": "python",
   "name": "python3"
  },
  "language_info": {
   "codemirror_mode": {
    "name": "ipython",
    "version": 3
   },
   "file_extension": ".py",
   "mimetype": "text/x-python",
   "name": "python",
   "nbconvert_exporter": "python",
   "pygments_lexer": "ipython3",
   "version": "3.9.2"
  }
 },
 "nbformat": 4,
 "nbformat_minor": 5
}
