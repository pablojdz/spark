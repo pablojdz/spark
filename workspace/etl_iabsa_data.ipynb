{
 "cells": [
  {
   "cell_type": "code",
   "execution_count": 1,
   "id": "35d846e0-8718-4b65-a24e-2c7206d2fb84",
   "metadata": {
    "tags": []
   },
   "outputs": [],
   "source": [
    "from pyspark.sql import SparkSession\n",
    "from pyspark.sql import Row\n",
    "from pyspark.sql.functions import expr, regexp_replace, col, monotonically_increasing_id, upper, initcap, when, count, isnan, isnull, split, explode, trim, lit\n",
    "from pyspark import SparkContext, SparkConf"
   ]
  },
  {
   "cell_type": "code",
   "execution_count": 2,
   "id": "bed33076-f42d-468e-b614-f7ca018824d8",
   "metadata": {
    "tags": []
   },
   "outputs": [
    {
     "name": "stderr",
     "output_type": "stream",
     "text": [
      "Setting default log level to \"WARN\".\n",
      "To adjust logging level use sc.setLogLevel(newLevel). For SparkR, use setLogLevel(newLevel).\n"
     ]
    },
    {
     "name": "stdout",
     "output_type": "stream",
     "text": [
      "23/03/24 21:50:30 WARN NativeCodeLoader: Unable to load native-hadoop library for your platform... using builtin-java classes where applicable\n",
      "23/03/24 21:50:32 WARN Utils: Service 'SparkUI' could not bind on port 4040. Attempting port 4041.\n"
     ]
    }
   ],
   "source": [
    "# create spark session to work with dataframe\n",
    "spark = SparkSession.builder.\\\n",
    "        appName(\"iabsa-pipeline\").\\\n",
    "        master('spark://spark-master:7077').\\\n",
    "        config(\"spark.executor.memory\",\"512mb\").getOrCreate()"
   ]
  },
  {
   "cell_type": "code",
   "execution_count": 3,
   "id": "d249fbad-2b1b-45aa-a2d6-6c5c95bfbd7b",
   "metadata": {
    "tags": []
   },
   "outputs": [
    {
     "name": "stderr",
     "output_type": "stream",
     "text": [
      "                                                                                \r"
     ]
    }
   ],
   "source": [
    "# import iabsa data from csv\n",
    "iabsa_df = spark.read.option(\"escape\", \"\\\"\").csv(\"./raw_data/iabsa/*.csv\",header=True, inferSchema=True) # other scape .option(\"quote\", \"\\\"\")\n",
    "# add id incremental column\n",
    "#iabsa_rdd =  iabsa_df.rdd.zipWithIndex().toDF()\n",
    "#iabsa_df=iabsa_rdd.select(col(\"_1.*\"),col(\"_2\").alias('id'))"
   ]
  },
  {
   "cell_type": "code",
   "execution_count": 4,
   "id": "c4485c06-ce0b-4b72-832e-4d1ac9b64a53",
   "metadata": {
    "tags": []
   },
   "outputs": [],
   "source": [
    "# drop description column\n",
    "iabsa_df = iabsa_df.drop(\"description\") # count: 610,782\n",
    "# capitalize (title) color, product_name, product_category\n",
    "iabsa_df = iabsa_df.withColumn('color',initcap(col('color')))\n",
    "iabsa_df = iabsa_df.withColumn('product_name',initcap(col('product_name')))\n",
    "iabsa_df = iabsa_df.withColumn('product_category',initcap(col('product_category')))\n",
    "# upper case total_sizes and available_size\n",
    "iabsa_df = iabsa_df.withColumn('total_sizes',upper(col('total_sizes')))\n",
    "iabsa_df = iabsa_df.withColumn('available_size',upper(col('available_size')))\n",
    "# remove $ character from mrp column\n",
    "iabsa_df = iabsa_df.withColumn('mrp', regexp_replace('mrp', r'\\$', ''))\n",
    "# convert mrp column to float type\n",
    "iabsa_df = iabsa_df.withColumn('mrp',iabsa_df.mrp.cast(\"float\")) # other way: col('mrp').astype('float')\n",
    "# remove duplicated records\n",
    "iabsa_df = iabsa_df.dropDuplicates(subset=['product_name','mrp','pdp_url','total_sizes','available_size','color']) # count: 148020\n",
    "# drop pdp_url column\n",
    "iabsa_df = iabsa_df.drop('pdp_url')\n",
    "# standardize brand_name\n",
    "iabsa_df = iabsa_df.withColumn('brand_name',\\\n",
    "                             when(col('brand_name').rlike(\"([bB]).(tempt|TEMPT)('?|%27)(d|D)\"),\"B.Tempt'd\")\\\n",
    "                            .when(col('brand_name').rlike(\"^([Vv]ictoria|VICTORIA)'?s(\\s+|-)([Ss]ecret|SECRET)\"),\"Victoria's Secret\")\\\n",
    "                            .when(col('brand_name').rlike(\"^([Hh]anky|HANKY)(\\s*|-)([Pp]anky|PANKY)\"),\"Hanky Panky\")\\\n",
    "                            .when(col('brand_name').rlike(\"^([Cc]alvin|CALVIN)(\\s*|-)([Kk]lein|KLEIN)\"),\"Calvin Klein\")\\\n",
    "                            .when(col('brand_name').rlike(\"^([Ww]acoal|WACOAL)\"),\"Wacoal\")\\\n",
    "                            .otherwise(col('brand_name')))\n",
    "# add index_id column\n",
    "iabsa_df = iabsa_df.withColumn('index_id',monotonically_increasing_id())\n",
    "# fill NaN value in color column with 'None' value\n",
    "iabsa_df = iabsa_df.na.fill('None','color')\n",
    "# drop na value from total_sizes and available_size\n",
    "#iabsa_df = iabsa_df.na.drop(subset=['total_sizes','available_size'])\n",
    "#iabsa_df = iabsa_df.na.fill('None','total_sizes')\n",
    "#iabsa_df = iabsa_df.na.fill('None','available_size')\n",
    "# split total sizes, remove white space and drop columns total_sizes and available_size from iabsa_size_df\n",
    "iabsa_size_df = iabsa_df.withColumn('size',explode(split('total_sizes',',')))\n",
    "iabsa_size_df = iabsa_size_df.withColumn('size', trim('size'))\n",
    "iabsa_size_df = iabsa_size_df.drop('total_sizes','available_size')\n",
    "# split available sizes, remove white space\n",
    "iabsa_available_size_df = iabsa_df.withColumn('available_size',explode(split('available_size',','))) # row count: 2,779,052\n",
    "iabsa_available_size_df = iabsa_available_size_df.withColumn('available_size', trim('available_size')) # row count: 424,421\n",
    "iabsa_available_size_df = iabsa_available_size_df.drop('total_sizes')\n",
    "# drop null value from iabsa_size_df and iabsa_available_size_df\n",
    "iabsa_size_df = iabsa_size_df.na.drop(subset=['size'])\n",
    "iabsa_available_size_df = iabsa_available_size_df.na.drop(subset=['available_size'])\n",
    "# add column total_size and total_available_size with value 1\n",
    "iabsa_size_df = iabsa_size_df.withColumn('total_size',lit(1))\n",
    "iabsa_available_size_df = iabsa_available_size_df.withColumn('total_available_size',lit(1))\n",
    "# aggregate total size and total available size --> total size 170,982, total available size  113,231\n",
    "iabsa_size_df = iabsa_size_df.groupBy('product_name','mrp','brand_name','product_category','retailer','size','color')\\\n",
    "                            .sum('total_size')\\\n",
    "                            .select('product_name','mrp','brand_name','product_category','retailer','size','color', col('sum(total_size)').alias('total_size'))\n",
    "iabsa_available_size_df = iabsa_available_size_df.groupBy('product_name','mrp','brand_name','product_category','retailer','available_size','color')\\\n",
    "                            .sum('total_available_size')\\\n",
    "                            .select('product_name','mrp','brand_name','product_category','retailer','available_size','color', col('sum(total_available_size)').alias('total_available_size'))\n",
    "# merge total size with available size\n",
    "\n"
   ]
  },
  {
   "cell_type": "code",
   "execution_count": 5,
   "id": "f1a8367c-7d41-4d15-ab56-a7963fa82a31",
   "metadata": {
    "tags": []
   },
   "outputs": [
    {
     "name": "stderr",
     "output_type": "stream",
     "text": [
      "[Stage 4:============================================>              (3 + 1) / 4]\r"
     ]
    },
    {
     "name": "stdout",
     "output_type": "stream",
     "text": [
      "+------------+---+----------+----------------+--------+-----------+--------------+-----+--------+\n",
      "|product_name|mrp|brand_name|product_category|retailer|total_sizes|available_size|color|index_id|\n",
      "+------------+---+----------+----------------+--------+-----------+--------------+-----+--------+\n",
      "|           0|  0|         0|               0|       0|         40|            26|    0|       0|\n",
      "+------------+---+----------+----------------+--------+-----------+--------------+-----+--------+\n",
      "\n"
     ]
    },
    {
     "name": "stderr",
     "output_type": "stream",
     "text": [
      "                                                                                \r"
     ]
    }
   ],
   "source": [
    "# verify if there is null or nan value in each column\n",
    "iabsa_df.select([count(when(isnan(c) | isnull(c), c)).alias(c) for c in iabsa_df.columns]).show() # other way col(c).isNull()\n",
    "#iabsa_df.where(col('color').isNull()).show()\n"
   ]
  },
  {
   "cell_type": "code",
   "execution_count": 7,
   "id": "1bdd4ccd-0d7e-4850-925f-90a2deca8e1c",
   "metadata": {
    "tags": []
   },
   "outputs": [
    {
     "name": "stderr",
     "output_type": "stream",
     "text": [
      "                                                                                \r"
     ]
    },
    {
     "data": {
      "text/plain": [
       "113376"
      ]
     },
     "execution_count": 7,
     "metadata": {},
     "output_type": "execute_result"
    }
   ],
   "source": [
    "iabsa_available_size_df.count() # 113,231"
   ]
  },
  {
   "cell_type": "code",
   "execution_count": 8,
   "id": "15529ca7-c241-4d22-9a6f-a701049a97b1",
   "metadata": {
    "tags": []
   },
   "outputs": [
    {
     "name": "stderr",
     "output_type": "stream",
     "text": [
      "                                                                                \r"
     ]
    },
    {
     "data": {
      "text/plain": [
       "148020"
      ]
     },
     "execution_count": 8,
     "metadata": {},
     "output_type": "execute_result"
    }
   ],
   "source": [
    "iabsa_df.count()"
   ]
  },
  {
   "cell_type": "code",
   "execution_count": 9,
   "id": "b659daa7-7840-421e-a156-4c5fd189b61c",
   "metadata": {
    "tags": []
   },
   "outputs": [
    {
     "name": "stderr",
     "output_type": "stream",
     "text": [
      "                                                                                \r"
     ]
    },
    {
     "data": {
      "text/plain": [
       "171113"
      ]
     },
     "execution_count": 9,
     "metadata": {},
     "output_type": "execute_result"
    }
   ],
   "source": [
    "iabsa_size_df.count() # 170,982"
   ]
  },
  {
   "cell_type": "code",
   "execution_count": 9,
   "id": "aabd90af-5e0c-4e6a-9f4a-c3d4019b2030",
   "metadata": {},
   "outputs": [],
   "source": [
    "\n",
    "inventory_df = iabsa_size_df.join(iabsa_available_size_df,\\\n",
    "                          (iabsa_size_df.product_name == iabsa_available_size_df.product_name) &\\\n",
    "                          (iabsa_size_df.mrp == iabsa_available_size_df.mrp) &\\\n",
    "                          (iabsa_size_df.brand_name == iabsa_available_size_df.brand_name) &\\\n",
    "                          (iabsa_size_df.product_category == iabsa_available_size_df.product_category) &\\\n",
    "                          (iabsa_size_df.retailer == iabsa_available_size_df.retailer) &\\\n",
    "                          (iabsa_size_df.color == iabsa_available_size_df.color) &\\\n",
    "                          (iabsa_size_df.size == iabsa_available_size_df.available_size)\n",
    "                          ,'left')\\\n",
    "        .select(iabsa_size_df.product_name, iabsa_size_df.mrp, iabsa_size_df.brand_name, iabsa_size_df.product_category, iabsa_size_df.retailer, iabsa_size_df.color, iabsa_size_df.size, iabsa_size_df.total_size, iabsa_available_size_df.total_available_size)"
   ]
  },
  {
   "cell_type": "code",
   "execution_count": 10,
   "id": "1cebc0c6-36e7-407e-a85b-eb2e1cfbae0d",
   "metadata": {},
   "outputs": [],
   "source": [
    "inventory_df = inventory_df.na.fill(0,'total_available_size')"
   ]
  },
  {
   "cell_type": "code",
   "execution_count": 11,
   "id": "6442f782-4dc6-45e7-aa46-b2e3ae36685e",
   "metadata": {},
   "outputs": [
    {
     "name": "stderr",
     "output_type": "stream",
     "text": [
      "[Stage 56:>                                                         (0 + 1) / 1]\r"
     ]
    },
    {
     "name": "stdout",
     "output_type": "stream",
     "text": [
      "+--------------------+----+------------+------------------+------------+--------------+-------+----------+--------------------+\n",
      "|        product_name| mrp|  brand_name|  product_category|    retailer|         color|   size|total_size|total_available_size|\n",
      "+--------------------+----+------------+------------------+------------+--------------+-------+----------+--------------------+\n",
      "|'b Delighted' Con...|40.0|   B.Tempt'd|Skin-tone Lingerie|Nordstrom US|         Night|  32DDD|         2|                   0|\n",
      "|'bodysuede' Lace ...|18.0|      Wacoal|   Women's Panties|Nordstrom US|         Ivory|      8|         1|                   0|\n",
      "|'ciao Bella' Unde...|38.0|   B.Tempt'd|              Bras|Nordstrom US|         Ivory|   38DD|         1|                   0|\n",
      "|'ciao Bella' Unde...|38.0|   B.Tempt'd|              Bras|Nordstrom US|         Night|  36DDD|         1|                   0|\n",
      "|'ciao Bella' Unde...|38.0|   B.Tempt'd|              Bras|Nordstrom US|       Peacoat|  30DDD|         1|                   0|\n",
      "|'ciao Bella' Unde...|38.0|   B.Tempt'd|              Bras|Nordstrom US|       Peacoat|     36|         1|                   0|\n",
      "|'cotton Suede' La...|18.0|      Wacoal|Skin-tone Lingerie|Nordstrom US|Naturally Nude|      6|         1|                   0|\n",
      "|'cotton Suede' La...|18.0|      Wacoal|   Women's Panties|Nordstrom US|         Black|      9|         1|                   0|\n",
      "|'cotton Suede' La...|18.0|      Wacoal|   Women's Panties|Nordstrom US|         White|      5|         1|                   0|\n",
      "|'f2781' Soft Cup ...|38.0|Calvin Klein|              Bras|Nordstrom US|          Bare|    38B|         2|                   0|\n",
      "|'finesse' Molded ...|65.0|      Wacoal|              Bras|Nordstrom US|         Black|   30DD|         1|                   0|\n",
      "|'finesse' Molded ...|65.0|      Wacoal|              Bras|Nordstrom US|         Black|  30DDD|         1|                   0|\n",
      "|'finesse' Molded ...|65.0|      Wacoal|              Bras|Nordstrom US|   Conch Shell|    30D|         1|                   0|\n",
      "|'finesse' Molded ...|65.0|      Wacoal|              Bras|Nordstrom US|   Conch Shell|  30DDD|         1|                   0|\n",
      "|'finesse' Molded ...|65.0|      Wacoal|              Bras|Nordstrom US|   Conch Shell|    36B|         1|                   0|\n",
      "|'finesse' Molded ...|65.0|      Wacoal|              Bras|Nordstrom US|   Conch Shell|    38B|         1|                   0|\n",
      "|  'invisibles' Thong|13.0|Calvin Klein|Skin-tone Lingerie|Nordstrom US| Desert Sunset|X-LARGE|         1|                   0|\n",
      "|  'invisibles' Thong|13.0|Calvin Klein|Skin-tone Lingerie|Nordstrom US|     Stimulate| MEDIUM|         1|                   0|\n",
      "|  'invisibles' Thong|13.0|Calvin Klein|Skin-tone Lingerie|Nordstrom US| Tranquil Blue|  LARGE|         1|                   0|\n",
      "|  'invisibles' Thong|13.0|Calvin Klein|   Women's Panties|Nordstrom US| Desert Sunset|  LARGE|         1|                   0|\n",
      "+--------------------+----+------------+------------------+------------+--------------+-------+----------+--------------------+\n",
      "only showing top 20 rows\n",
      "\n"
     ]
    },
    {
     "name": "stderr",
     "output_type": "stream",
     "text": [
      "                                                                                \r"
     ]
    }
   ],
   "source": [
    "inventory_df.filter('total_available_size = 0').show()"
   ]
  },
  {
   "cell_type": "code",
   "execution_count": 76,
   "id": "e75b44bb-6c42-43ec-bf54-c795e3905c7f",
   "metadata": {},
   "outputs": [
    {
     "name": "stderr",
     "output_type": "stream",
     "text": [
      "                                                                                \r"
     ]
    },
    {
     "name": "stdout",
     "output_type": "stream",
     "text": [
      "+--------------------+----+----------+--------------------+--------+--------------------+----+----------+--------------------+\n",
      "|        product_name| mrp|brand_name|    product_category|retailer|               color|size|total_size|total_available_size|\n",
      "+--------------------+----+----------+--------------------+--------+--------------------+----+----------+--------------------+\n",
      "|B.active Low-impa...|44.0| B.Tempt'd|Women - Lingerie ...|Macys US|Blue Depths/teaberry| 32D|         3|                   4|\n",
      "|B.active Low-impa...|44.0| B.Tempt'd|Women - Lingerie ...|Macys US| Night/deep Sea Blue|32DD|         4|                   5|\n",
      "+--------------------+----+----------+--------------------+--------+--------------------+----+----------+--------------------+\n",
      "\n"
     ]
    }
   ],
   "source": [
    "inventory_df.filter(\"total_available_size > total_size\").show()"
   ]
  },
  {
   "cell_type": "code",
   "execution_count": 66,
   "id": "8cbe5715-5945-47be-8c02-ed7660948b07",
   "metadata": {},
   "outputs": [
    {
     "name": "stderr",
     "output_type": "stream",
     "text": [
      "[Stage 643:>                                                        (0 + 4) / 4]\r"
     ]
    },
    {
     "name": "stdout",
     "output_type": "stream",
     "text": [
      "+------------+---+----------+----------------+--------+-----+----+----------+--------------------+\n",
      "|product_name|mrp|brand_name|product_category|retailer|color|size|total_size|total_available_size|\n",
      "+------------+---+----------+----------------+--------+-----+----+----------+--------------------+\n",
      "|           0|  0|         0|               0|       0|    0|   0|         0|               60755|\n",
      "+------------+---+----------+----------------+--------+-----+----+----------+--------------------+\n",
      "\n"
     ]
    },
    {
     "name": "stderr",
     "output_type": "stream",
     "text": [
      "                                                                                \r"
     ]
    }
   ],
   "source": [
    "inventory_df.select([count(when(isnan(c) | isnull(c), c)).alias(c) for c in inventory_df.columns]).show() "
   ]
  },
  {
   "cell_type": "code",
   "execution_count": 77,
   "id": "177c487d-e075-4653-9ab3-09a216115f98",
   "metadata": {},
   "outputs": [
    {
     "name": "stderr",
     "output_type": "stream",
     "text": [
      "                                                                                \r"
     ]
    },
    {
     "data": {
      "text/plain": [
       "170942"
      ]
     },
     "execution_count": 77,
     "metadata": {},
     "output_type": "execute_result"
    }
   ],
   "source": [
    "inventory_df.count()"
   ]
  },
  {
   "cell_type": "code",
   "execution_count": 8,
   "id": "c7a74b36-d360-47dc-928f-de44c02d3dd7",
   "metadata": {},
   "outputs": [
    {
     "name": "stderr",
     "output_type": "stream",
     "text": [
      "[Stage 16:>                                                         (0 + 4) / 4]\r"
     ]
    },
    {
     "name": "stdout",
     "output_type": "stream",
     "text": [
      "+--------------------+----+-----------------+--------------------+------------------+--------------------+--------------------+--------------------+--------+\n",
      "|        product_name| mrp|       brand_name|    product_category|          retailer|         total_sizes|      available_size|               color|index_id|\n",
      "+--------------------+----+-----------------+--------------------+------------------+--------------------+--------------------+--------------------+--------+\n",
      "|  Aerie String Thong| 7.5|            AERIE|Everyday Loves Un...|             Ae US|XXS, XS, S, M, L,...|XS, S, M, L, XL, XXL|                Buff|       0|\n",
      "|Aerie Lace Back S...| 7.5|            AERIE|              Thongs|             Ae US|XXS, XS, S, M, L,...|XS, S, M, L, XL, XXL|        Dark Heather|       1|\n",
      "| Aerie String Bikini| 7.5|            AERIE|             Bikinis|             Ae US|XS, S, M, L, XL, XXL|XS, S, M, L, XL, XXL|        Dark Heather|       2|\n",
      "|        Aerie Cheeky| 7.5|            AERIE|Everyday Loves Un...|             Ae US|XXS, XS, S, M, L,...|     XS, S, M, L, XL|      Medium Heather|       3|\n",
      "|        Aerie Cheeky| 7.5|            AERIE|            Cheekies|             Ae US|XXS, XS, S, M, L,...|     XS, S, M, L, XL|      Medium Heather|       4|\n",
      "| Aerie String Bikini| 7.5|            AERIE|Everyday Loves Un...|             Ae US|XXS, XS, S, M, L,...|               XS, S|                Navy|       5|\n",
      "| Aerie String Bikini| 7.5|            AERIE|             Bikinis|             Ae US|XXS, XS, S, M, L,...|               XS, S|                Navy|       6|\n",
      "|  Aerie String Thong| 7.5|            AERIE|              Thongs|             Ae US|XXS, XS, S, M, L,...|           S, M, XXL|               White|       7|\n",
      "|Calvin Klein Wome...|7.51|     Calvin Klein|             Panties|         Amazon US|SMALL , MEDIUM , ...|              MEDIUM|       Desert Sunset|       8|\n",
      "|Calvin Klein Wome...|7.99|     Calvin Klein|             Panties|         Amazon US|X-SMALL , SMALL ,...|X-SMALL , MEDIUM ...|Chevron Outline L...|       9|\n",
      "|Pretty Lace Brazi...| 8.0|       US TOPSHOP|            Lingerie|        Topshop US|       2,4,6,8,10,12|                  12|         Bright Pink|      10|\n",
      "|  Full Lace Knickers| 8.0|       US TOPSHOP|            Lingerie|        Topshop US|       2,4,6,8,10,12|            2,4,8,12|              Cobalt|      11|\n",
      "|Calvin Klein Wome...| 8.0|     Calvin Klein|             Panties|         Amazon US|SMALL , MEDIUM , ...|               SMALL|               Large|      12|\n",
      "|Cotton Lingerie C...| 8.5|Victoria's Secret|        Cheeky Panty|Victoriassecret US|     XS, S, M, L, XL|                   S|Aqua Retro Paisle...|      13|\n",
      "|Cotton Lingerie C...| 8.5|Victoria's Secret|        Cheeky Panty|Victoriassecret US|     XS, S, M, L, XL|                  XL|Aqua Retro Paisle...|      14|\n",
      "|Cotton Lingerie N...| 8.5|Victoria's Secret|        Cheeky Panty|Victoriassecret US|     XS, S, M, L, XL|                   L|Aqua Retro Paisle...|      15|\n",
      "|Cotton Lingerie H...| 8.5|Victoria's Secret|     Hiphugger Panty|Victoriassecret US|     XS, S, M, L, XL|                   L|Aqua Retro Paisle...|      16|\n",
      "|Cotton Lingerie C...| 8.5|Victoria's Secret|        Cheeky Panty|Victoriassecret US|     XS, S, M, L, XL|                   L|         Aqua Splash|      17|\n",
      "|Cotton Lingerie C...| 8.5|Victoria's Secret|        Cheeky Panty|Victoriassecret US|     XS, S, M, L, XL|                  XS|         Aqua Splash|      18|\n",
      "|Cotton Lingerie N...| 8.5|Victoria's Secret|        Cheeky Panty|Victoriassecret US|     XS, S, M, L, XL|                   L|         Aqua Splash|      19|\n",
      "+--------------------+----+-----------------+--------------------+------------------+--------------------+--------------------+--------------------+--------+\n",
      "only showing top 20 rows\n",
      "\n"
     ]
    },
    {
     "name": "stderr",
     "output_type": "stream",
     "text": [
      "                                                                                \r"
     ]
    }
   ],
   "source": [
    "iabsa_df.show()"
   ]
  },
  {
   "cell_type": "raw",
   "id": "7bc60cf8-c41c-4491-8902-a5b592ef44f5",
   "metadata": {},
   "source": []
  },
  {
   "cell_type": "code",
   "execution_count": 10,
   "id": "73bd9055-c5c4-4d32-a2fe-2489c0551ee2",
   "metadata": {
    "tags": []
   },
   "outputs": [
    {
     "name": "stdout",
     "output_type": "stream",
     "text": [
      "root\n",
      " |-- product_name: string (nullable = true)\n",
      " |-- mrp: float (nullable = true)\n",
      " |-- brand_name: string (nullable = true)\n",
      " |-- product_category: string (nullable = true)\n",
      " |-- retailer: string (nullable = true)\n",
      " |-- total_sizes: string (nullable = true)\n",
      " |-- available_size: string (nullable = true)\n",
      " |-- color: string (nullable = false)\n",
      " |-- index_id: long (nullable = false)\n",
      "\n"
     ]
    }
   ],
   "source": [
    "iabsa_df.printSchema()"
   ]
  },
  {
   "cell_type": "code",
   "execution_count": 11,
   "id": "a8c3c90e-b098-4728-85d0-3a72a7590c54",
   "metadata": {
    "tags": []
   },
   "outputs": [
    {
     "name": "stderr",
     "output_type": "stream",
     "text": [
      "[Stage 46:=============================>                            (2 + 2) / 4]\r"
     ]
    },
    {
     "name": "stdout",
     "output_type": "stream",
     "text": [
      "+------------------+------+\n",
      "|          retailer| count|\n",
      "+------------------+------+\n",
      "|Victoriassecret US|113818|\n",
      "|             Ae US| 11236|\n",
      "|         Amazon US|  9056|\n",
      "|          Macys US|  4976|\n",
      "|     Hankypanky US|  3521|\n",
      "|   Calvin Klein US|  2669|\n",
      "|      Nordstrom US|  1247|\n",
      "|        Topshop US|  1041|\n",
      "|        Btemptd US|   456|\n",
      "+------------------+------+\n",
      "\n"
     ]
    },
    {
     "name": "stderr",
     "output_type": "stream",
     "text": [
      "                                                                                \r"
     ]
    }
   ],
   "source": [
    "iabsa_df.select(\"retailer\").groupBy(\"retailer\").count().orderBy(\"count\", ascending=0).show()"
   ]
  },
  {
   "cell_type": "code",
   "execution_count": 12,
   "id": "9fa87aee-0fa0-4256-896c-e4c48a6dadf7",
   "metadata": {
    "tags": []
   },
   "outputs": [],
   "source": [
    "spark.stop()"
   ]
  }
 ],
 "metadata": {
  "kernelspec": {
   "display_name": "Python 3 (ipykernel)",
   "language": "python",
   "name": "python3"
  },
  "language_info": {
   "codemirror_mode": {
    "name": "ipython",
    "version": 3
   },
   "file_extension": ".py",
   "mimetype": "text/x-python",
   "name": "python",
   "nbconvert_exporter": "python",
   "pygments_lexer": "ipython3",
   "version": "3.9.2"
  }
 },
 "nbformat": 4,
 "nbformat_minor": 5
}
