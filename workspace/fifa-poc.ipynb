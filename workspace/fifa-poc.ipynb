{
 "cells": [
  {
   "cell_type": "code",
   "execution_count": 1,
   "id": "e21360a8-b504-457f-b171-8aaad851e29c",
   "metadata": {
    "tags": []
   },
   "outputs": [],
   "source": [
    "from pyspark.sql import SparkSession\n",
    "from pyspark.sql import Row\n",
    "from pyspark.sql.functions import expr\n",
    "from pyspark import SparkContext, SparkConf"
   ]
  },
  {
   "cell_type": "code",
   "execution_count": 2,
   "id": "a9387cba-1ba8-44e4-9384-129a53ea40f8",
   "metadata": {
    "tags": []
   },
   "outputs": [
    {
     "name": "stderr",
     "output_type": "stream",
     "text": [
      "Setting default log level to \"WARN\".\n",
      "To adjust logging level use sc.setLogLevel(newLevel). For SparkR, use setLogLevel(newLevel).\n"
     ]
    },
    {
     "name": "stdout",
     "output_type": "stream",
     "text": [
      "23/03/24 21:49:21 WARN NativeCodeLoader: Unable to load native-hadoop library for your platform... using builtin-java classes where applicable\n"
     ]
    }
   ],
   "source": [
    "# create spark session to work with dataframe\n",
    "spark = SparkSession.builder.\\\n",
    "        appName(\"fifa-pipeline\").\\\n",
    "        master('spark://spark-master:7077').\\\n",
    "        config(\"spark.executor.memory\",\"512mb\").getOrCreate()"
   ]
  },
  {
   "cell_type": "code",
   "execution_count": null,
   "id": "5d94a1ea-ec4f-4c22-a0a9-39b9ec50d0c9",
   "metadata": {
    "tags": []
   },
   "outputs": [],
   "source": [
    "fifa_df = spark.read.option('header','true').csv('./raw_data/players_20.csv')"
   ]
  },
  {
   "cell_type": "code",
   "execution_count": 5,
   "id": "202f5781-2599-4fc2-a2b9-cd1aba7a7e2d",
   "metadata": {},
   "outputs": [
    {
     "name": "stderr",
     "output_type": "stream",
     "text": [
      "[Stage 1:===================>                                       (1 + 2) / 3]\r"
     ]
    },
    {
     "name": "stdout",
     "output_type": "stream",
     "text": [
      "+------------+---+-----------+--------------------+----------------+------------------+---------+\n",
      "|  short_name|age|nationality|                club|player_positions|team_jersey_number|value_eur|\n",
      "+------------+---+-----------+--------------------+----------------+------------------+---------+\n",
      "|   A. Succar| 23|       Peru|       CD Huachipato|              ST|                24|   900000|\n",
      "|  R. Ruidíaz| 28|       Peru| Seattle Sounders FC|              ST|                 9|  8000000|\n",
      "|    I. Bulos| 26|       Peru|         Boavista FC|              ST|                29|   800000|\n",
      "|    R. Tapia| 23|       Peru|           Feyenoord|         CDM, CM|                20|  7000000|\n",
      "|  G. Dulanto| 23|       Peru|         Boavista FC|              CB|                13|   675000|\n",
      "| J. Martínez| 24|       Peru|      CF Fuenlabrada|          ST, LM|                 9|   650000|\n",
      "|    Y. Yotún| 29|       Peru|           Cruz Azul|      CM, LM, LB|                19|  5500000|\n",
      "|   M. Trauco| 26|       Peru|    AS Saint-Étienne|          LB, LM|                13|  5500000|\n",
      "|I. Santillán| 28|       Peru|Tiburones Rojos d...|          LB, LM|                15|   550000|\n",
      "|   P. Aquino| 24|       Peru|           Club León|         CDM, CM|                18|  4900000|\n",
      "|    M. López| 19|       Peru|San Jose Earthquakes|              LB|                27|   475000|\n",
      "|   J. Ballón| 31|       Peru|CD Universidad de...|         CDM, CM|                 5|   475000|\n",
      "|L. Advíncula| 29|       Peru|      Rayo Vallecano|         RB, RWB|                17|  4600000|\n",
      "|   J. Farfán| 34|       Peru|    Lokomotiv Moscow|          RM, ST|                 8|  4500000|\n",
      "|    L. Abram| 23|       Peru|     Vélez Sarsfield|              CB|                29|  4400000|\n",
      "|  P. Hurtado| 28|       Peru|    Atiker Konyaspor|             CAM|                16|  4000000|\n",
      "|C. Benavente| 25|       Peru|           FC Nantes|     CAM, LM, CF|                10|  4000000|\n",
      "|  A. Callens| 27|       Peru|    New York City FC|              CB|                 6|  2600000|\n",
      "|     S. Peña| 23|       Peru|            FC Emmen|         CAM, CM|                19|  2400000|\n",
      "|    Y. Reyna| 25|       Peru|Vancouver Whiteca...|          CF, RW|                29|  2200000|\n",
      "+------------+---+-----------+--------------------+----------------+------------------+---------+\n",
      "only showing top 20 rows\n",
      "\n"
     ]
    },
    {
     "name": "stderr",
     "output_type": "stream",
     "text": [
      "                                                                                \r"
     ]
    }
   ],
   "source": [
    "fifa_df.select(\"short_name\",\"age\",\"nationality\",\"club\",\"player_positions\",\"team_jersey_number\",\"value_eur\").\\\n",
    "    where(\"nationality == 'Peru'\").\\\n",
    "    orderBy(\"value_eur\",ascending=0).\\\n",
    "    show()"
   ]
  },
  {
   "cell_type": "code",
   "execution_count": 6,
   "id": "ee0a4479-2ec4-423e-a06d-68441edd50a6",
   "metadata": {},
   "outputs": [
    {
     "name": "stderr",
     "output_type": "stream",
     "text": [
      "22/01/14 17:43:27 WARN package: Truncated the string representation of a plan since it was too large. This behavior can be adjusted by setting 'spark.sql.debug.maxToStringFields'.\n"
     ]
    }
   ],
   "source": [
    "fifa_df.createOrReplaceTempView(\"fifa_tbl\")"
   ]
  },
  {
   "cell_type": "code",
   "execution_count": 7,
   "id": "075052d1-f85e-4149-b9a0-a4bea10c9ff9",
   "metadata": {},
   "outputs": [
    {
     "name": "stdout",
     "output_type": "stream",
     "text": [
      "+---------+-----------------+---+-----------+-------------------+------------------+\n",
      "|sofifa_id|       short_name|age|nationality|               club|team_jersey_number|\n",
      "+---------+-----------------+---+-----------+-------------------+------------------+\n",
      "|   158023|         L. Messi| 32|  Argentina|       FC Barcelona|                10|\n",
      "|    20801|Cristiano Ronaldo| 34|   Portugal|           Juventus|                 7|\n",
      "|   190871|        Neymar Jr| 27|     Brazil|Paris Saint-Germain|                10|\n",
      "|   200389|         J. Oblak| 26|   Slovenia|    Atlético Madrid|                13|\n",
      "|   183277|        E. Hazard| 28|    Belgium|        Real Madrid|                 7|\n",
      "|   192985|     K. De Bruyne| 28|    Belgium|    Manchester City|                17|\n",
      "|   192448|    M. ter Stegen| 27|    Germany|       FC Barcelona|                 1|\n",
      "|   203376|      V. van Dijk| 27|Netherlands|          Liverpool|                 4|\n",
      "|   177003|        L. Modrić| 33|    Croatia|        Real Madrid|                10|\n",
      "|   209331|         M. Salah| 27|      Egypt|          Liverpool|                11|\n",
      "|   231747|        K. Mbappé| 20|     France|Paris Saint-Germain|                 7|\n",
      "|   201024|     K. Koulibaly| 28|    Senegal|             Napoli|                26|\n",
      "|   202126|          H. Kane| 25|    England|  Tottenham Hotspur|                10|\n",
      "|   212831|          Alisson| 26|     Brazil|          Liverpool|                 1|\n",
      "|   193080|           De Gea| 28|      Spain|  Manchester United|                 1|\n",
      "|   215914|         N. Kanté| 28|     France|            Chelsea|                 7|\n",
      "|   138956|     G. Chiellini| 34|      Italy|           Juventus|                 3|\n",
      "|   153079|        S. Agüero| 31|  Argentina|    Manchester City|                10|\n",
      "|   155862|     Sergio Ramos| 33|      Spain|        Real Madrid|                 4|\n",
      "|   176580|        L. Suárez| 32|    Uruguay|       FC Barcelona|                 9|\n",
      "+---------+-----------------+---+-----------+-------------------+------------------+\n",
      "only showing top 20 rows\n",
      "\n"
     ]
    }
   ],
   "source": [
    "spark.sql(\"select sofifa_id, short_name, age, nationality, club, team_jersey_number from fifa_tbl\").show()"
   ]
  },
  {
   "cell_type": "code",
   "execution_count": 8,
   "id": "4214e606-eedb-4d6f-b826-2b7171af0dac",
   "metadata": {},
   "outputs": [],
   "source": [
    "spark.stop()"
   ]
  }
 ],
 "metadata": {
  "kernelspec": {
   "display_name": "Python 3 (ipykernel)",
   "language": "python",
   "name": "python3"
  },
  "language_info": {
   "codemirror_mode": {
    "name": "ipython",
    "version": 3
   },
   "file_extension": ".py",
   "mimetype": "text/x-python",
   "name": "python",
   "nbconvert_exporter": "python",
   "pygments_lexer": "ipython3",
   "version": "3.9.2"
  }
 },
 "nbformat": 4,
 "nbformat_minor": 5
}
